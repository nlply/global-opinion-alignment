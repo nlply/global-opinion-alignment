{
 "cells": [
  {
   "cell_type": "code",
   "execution_count": 1,
   "id": "c0cca7ac",
   "metadata": {},
   "outputs": [],
   "source": [
    "import pandas as pd\n",
    "import numpy as np\n",
    "import json\n",
    "from scipy.stats import wasserstein_distance\n",
    "\n",
    "import ast\n",
    "import matplotlib.pyplot as plt\n",
    "from matplotlib import cm\n",
    "from matplotlib.colors import Normalize\n",
    "\n",
    "import numpy as np\n",
    "import re\n",
    "import math"
   ]
  },
  {
   "cell_type": "code",
   "execution_count": 9,
   "id": "8e565108",
   "metadata": {},
   "outputs": [],
   "source": [
    "def get_country_code_dict():\n",
    "    country_path = \"../dataset/country.jsonl\"\n",
    "    json_file = open(country_path)\n",
    "    country_dict = json.load(json_file)\n",
    "    return country_dict"
   ]
  },
  {
   "cell_type": "code",
   "execution_count": 10,
   "id": "fde3be07",
   "metadata": {},
   "outputs": [],
   "source": [
    "country_dict = get_country_code_dict()"
   ]
  },
  {
   "cell_type": "code",
   "execution_count": 11,
   "id": "f33fa9d7",
   "metadata": {},
   "outputs": [
    {
     "data": {
      "text/plain": [
       "173"
      ]
     },
     "execution_count": 11,
     "metadata": {},
     "output_type": "execute_result"
    }
   ],
   "source": [
    "len(country_dict)"
   ]
  },
  {
   "cell_type": "code",
   "execution_count": 13,
   "id": "2ab96128",
   "metadata": {},
   "outputs": [
    {
     "data": {
      "text/plain": [
       "144"
      ]
     },
     "execution_count": 13,
     "metadata": {},
     "output_type": "execute_result"
    }
   ],
   "source": [
    "def get_question_dict():\n",
    "    question_dict= dict()\n",
    "    lm_data_path = \"../results/RQ1/gpt-4/results.csv\"\n",
    "    lm_df = pd.read_csv(lm_data_path)\n",
    "    lm_df = lm_df[lm_df['type'] == 'Opinion-Dependent']\n",
    "    for _, row in lm_df.iterrows():\n",
    "        question_dict[row['id']] = ast.literal_eval(row['choice_keys'])\n",
    "    return question_dict\n",
    "\n",
    "question_dict = get_question_dict()\n",
    "len(question_dict)"
   ]
  },
  {
   "cell_type": "code",
   "execution_count": 15,
   "id": "be232695",
   "metadata": {},
   "outputs": [],
   "source": [
    "llm = \"deepseek-reasoner\"\n",
    "llm_data_path = f\"../results/RQ1/{llm}/results.csv\"\n",
    "llm_df = pd.read_csv(llm_data_path)\n",
    "llm_df = llm_df[llm_df['type'] == 'Opinion-Dependent']"
   ]
  },
  {
   "cell_type": "code",
   "execution_count": 16,
   "id": "4d250ef0",
   "metadata": {},
   "outputs": [],
   "source": [
    "def get_llm_distribution_by_country_and_question(question_item, llm_df):\n",
    "    try:\n",
    "        llm_distribution_rough = llm_df[llm_df['id'] == question_item[0]]['response'].values[0]\n",
    "    except:\n",
    "        return None\n",
    "    try:\n",
    "        prob_dict = ast.literal_eval(llm_distribution_rough)\n",
    "    except:\n",
    "        llm_distribution_rough = re.sub(r'(\\d+):\\s*([\\d.]+%)', r\"'\\1': '\\2'\", llm_distribution_rough)\n",
    "        prob_dict = ast.literal_eval(llm_distribution_rough)\n",
    "\n",
    "    llm_distribution = {k: float(v.strip('%')) / 100 for k, v in prob_dict.items()}\n",
    "    return llm_distribution"
   ]
  },
  {
   "cell_type": "code",
   "execution_count": 17,
   "id": "63a6122f",
   "metadata": {},
   "outputs": [],
   "source": [
    "llm_od_dict = dict()\n",
    "for (question_item) in question_dict.items():\n",
    "    llm_distribution = get_llm_distribution_by_country_and_question(question_item, llm_df)\n",
    "    if llm_distribution is None:\n",
    "        continue\n",
    "    llm_od_dict[question_item[0]] = llm_distribution"
   ]
  },
  {
   "cell_type": "code",
   "execution_count": 18,
   "id": "ccedde5a",
   "metadata": {},
   "outputs": [],
   "source": [
    "def get_human_distribution_by_question(question_item, human_df):\n",
    "    human_df = human_df[question_item[0]]\n",
    "    if human_df.empty:\n",
    "        return None\n",
    "    \n",
    "    human_df = human_df.value_counts().sort_index()\n",
    "\n",
    "    human_distribution = {}\n",
    "    is_ok = False\n",
    "    for c in question_item[1]:\n",
    "        if int(c) not in human_df.index:\n",
    "            human_distribution[c] = 0\n",
    "        else:\n",
    "            human_distribution[c] = human_df[int(c)]\n",
    "            is_ok = True\n",
    "    if not is_ok:\n",
    "        return None\n",
    "    human_distribution = {k: float(v / sum(human_distribution.values())) for k, v in human_distribution.items()}\n",
    "    return human_distribution"
   ]
  },
  {
   "cell_type": "code",
   "execution_count": 19,
   "id": "1681fe71",
   "metadata": {},
   "outputs": [],
   "source": [
    "human_data_path = \"../dataset/wvs/WV7.csv\"\n",
    "human_df = pd.read_csv(human_data_path, low_memory=False)\n",
    "\n",
    "human_od_dict = dict()\n",
    "for (question_item) in question_dict.items():\n",
    "    human_distribution = get_human_distribution_by_question(question_item, human_df)\n",
    "    if human_distribution is None:\n",
    "        continue\n",
    "    human_od_dict[question_item[0]] = human_distribution"
   ]
  },
  {
   "cell_type": "code",
   "execution_count": 20,
   "id": "ab1b2faf",
   "metadata": {},
   "outputs": [],
   "source": [
    "def get_human_distribution_by_country_and_question(country_code, question_item, human_df):\n",
    "    human_df = human_df[human_df['B_COUNTRY'] == int(country_code)][question_item[0]]\n",
    "    if human_df.empty:\n",
    "        return None\n",
    "    \n",
    "    human_df = human_df.value_counts().sort_index()\n",
    "\n",
    "    human_distribution = {}\n",
    "    is_ok = False\n",
    "    for c in question_item[1]:\n",
    "        if int(c) not in human_df.index:\n",
    "            human_distribution[c] = 0\n",
    "        else:\n",
    "            human_distribution[c] = human_df[int(c)]\n",
    "            is_ok = True\n",
    "    if not is_ok:\n",
    "        return None\n",
    "    human_distribution = {k: float(v / sum(human_distribution.values())) for k, v in human_distribution.items()}\n",
    "    return human_distribution"
   ]
  },
  {
   "cell_type": "code",
   "execution_count": 21,
   "id": "41b41200",
   "metadata": {},
   "outputs": [],
   "source": [
    "def alignment_score(D1, D2, Q):\n",
    "    scores = []\n",
    "    for q in Q:\n",
    "        if q not in D1 or q not in D2:\n",
    "            continue\n",
    "        \n",
    "        p1 = D1[q]\n",
    "        p2 = D2[q]\n",
    "\n",
    "        if len(p1) != len(p2):\n",
    "            continue\n",
    "        N = len(p1) \n",
    "        support = np.array([int(k) for k, v in sorted(p1.items())])\n",
    "        wd = wasserstein_distance(support, support, [v for k, v in sorted(p1.items())], [v for k, v in sorted(p2.items())])\n",
    "        score = 1 - wd / (N - 1)\n",
    "        scores.append(score)\n",
    "    return np.round(np.mean(scores), 4), np.round(np.std(scores), 4)\n"
   ]
  },
  {
   "cell_type": "code",
   "execution_count": 22,
   "id": "3d198174",
   "metadata": {},
   "outputs": [
    {
     "data": {
      "text/plain": [
       "173"
      ]
     },
     "execution_count": 22,
     "metadata": {},
     "output_type": "execute_result"
    }
   ],
   "source": [
    "len(country_dict)"
   ]
  },
  {
   "cell_type": "code",
   "execution_count": 23,
   "id": "ffa75c50",
   "metadata": {},
   "outputs": [
    {
     "data": {
      "text/plain": [
       "{'8': 'Albania',\n",
       " '12': 'Algeria',\n",
       " '16': 'American Samoa',\n",
       " '20': 'Andorra',\n",
       " '24': 'Angola',\n",
       " '28': 'Antigua and Barbuda',\n",
       " '32': 'Argentina',\n",
       " '51': 'Armenia',\n",
       " '36': 'Australia',\n",
       " '40': 'Austria',\n",
       " '31': 'Azerbaijan',\n",
       " '50': 'Bangladesh',\n",
       " '52': 'Barbados',\n",
       " '56': 'Belgium',\n",
       " '60': 'Bermuda',\n",
       " '64': 'Bhutan',\n",
       " '68': 'Bolivia',\n",
       " '70': 'Bosnia',\n",
       " '72': 'Botswana',\n",
       " '76': 'Brazil',\n",
       " '84': 'Belize',\n",
       " '100': 'Bulgaria',\n",
       " '854': 'Burkina Faso',\n",
       " '108': 'Burundi',\n",
       " '112': 'Belarus',\n",
       " '116': 'Cambodia',\n",
       " '120': 'Cameroon',\n",
       " '124': 'Canada',\n",
       " '148': 'Chad',\n",
       " '152': 'Chile',\n",
       " '156': 'China',\n",
       " '170': 'Colombia',\n",
       " '384': 'Côte d´Ivoire',\n",
       " '184': 'Cook Islands',\n",
       " '188': 'Costa Rica',\n",
       " '191': 'Croatia',\n",
       " '192': 'Cuba',\n",
       " '196': 'Cyprus',\n",
       " '203': 'Czech Republic',\n",
       " '180': 'Dem. Rep. of Congo',\n",
       " '208': 'Denmark',\n",
       " '214': 'Dominican Republic',\n",
       " '818': 'Egypt',\n",
       " '218': 'Ecuador',\n",
       " '222': 'El Salvador',\n",
       " '226': 'Equatorial Guinea',\n",
       " '231': 'Ethiopia',\n",
       " '232': 'Eritrea',\n",
       " '233': 'Estonia',\n",
       " '246': 'Finland',\n",
       " '250': 'France',\n",
       " '268': 'Georgia',\n",
       " '270': 'Gambia',\n",
       " '624': 'Guinea-Bissau',\n",
       " '276': 'Germany',\n",
       " '288': 'Ghana',\n",
       " '292': 'Gibraltar',\n",
       " '300': 'Greece',\n",
       " '320': 'Guatemala',\n",
       " '324': 'Guinea',\n",
       " '328': 'Guyana',\n",
       " '826': 'Great Britain',\n",
       " '332': 'Haiti',\n",
       " '340': 'Honduras',\n",
       " '344': 'Hong Kong',\n",
       " '348': 'Hungary',\n",
       " '352': 'Iceland',\n",
       " '356': 'India',\n",
       " '360': 'Indonesia',\n",
       " '364': 'Iran',\n",
       " '368': 'Iraq',\n",
       " '372': 'Ireland',\n",
       " '376': 'Israel',\n",
       " '380': 'Italy',\n",
       " '400': 'Jordan',\n",
       " '388': 'Jamaica',\n",
       " '392': 'Japan',\n",
       " '398': 'Kazakhstan',\n",
       " '404': 'Kenya',\n",
       " '414': 'Kuwait',\n",
       " '417': 'Kyrgyzstan',\n",
       " '418': 'Laos',\n",
       " '422': 'Lebanon',\n",
       " '426': 'Lesotho',\n",
       " '428': 'Latvia',\n",
       " '430': 'Liberia',\n",
       " '434': 'Libya',\n",
       " '450': 'Madagascar',\n",
       " '454': 'Malawi',\n",
       " '458': 'Malaysia',\n",
       " '466': 'Mali',\n",
       " '470': 'Malta',\n",
       " '474': 'Martinique',\n",
       " '478': 'Mauritania',\n",
       " '480': 'Mauritius',\n",
       " '484': 'Mexico',\n",
       " '492': 'Monaco',\n",
       " '496': 'Mongolia',\n",
       " '498': 'Moldova',\n",
       " '504': 'Morocco',\n",
       " '508': 'Mozambique',\n",
       " '104': 'Myanmar',\n",
       " '912': 'Montenegro',\n",
       " '807': 'Macedonia',\n",
       " '516': 'Namibia',\n",
       " '524': 'Nepal',\n",
       " '528': 'Netherlands',\n",
       " '554': 'New Zealand',\n",
       " '558': 'Nicaragua',\n",
       " '562': 'Niger',\n",
       " '566': 'Nigeria',\n",
       " '578': 'Norway',\n",
       " '408': 'North Korea',\n",
       " '512': 'Oman',\n",
       " '586': 'Pakistan',\n",
       " '591': 'Panama',\n",
       " '598': 'Papua New Guinea',\n",
       " '600': 'Paraguay',\n",
       " '604': 'Peru',\n",
       " '608': 'Philippines',\n",
       " '616': 'Poland',\n",
       " '620': 'Portugal',\n",
       " '275': 'Palestine',\n",
       " '630': 'Puerto Rico',\n",
       " '634': 'Qatar',\n",
       " '642': 'Romania',\n",
       " '643': 'Russia',\n",
       " '646': 'Rwanda',\n",
       " '682': 'Saudi Arabia',\n",
       " '144': 'Sri Lanka',\n",
       " '686': 'Senegal',\n",
       " '690': 'Seychelles',\n",
       " '694': 'Sierra Leone',\n",
       " '702': 'Singapore',\n",
       " '703': 'Slovakia',\n",
       " '705': 'Slovenia',\n",
       " '706': 'Somalia',\n",
       " '710': 'South Africa',\n",
       " '724': 'Spain',\n",
       " '736': 'Sudan',\n",
       " '740': 'Suriname',\n",
       " '752': 'Sweden',\n",
       " '756': 'Switzerland',\n",
       " '760': 'Syria',\n",
       " '410': 'South Korea',\n",
       " '891': 'Serbia and Montenegro',\n",
       " '911': 'Serbia',\n",
       " '626': 'Timor-Leste',\n",
       " '762': 'Tajikistan',\n",
       " '764': 'Thailand',\n",
       " '768': 'Togo',\n",
       " '780': 'Trinidad',\n",
       " '788': 'Tunisia',\n",
       " '158': 'Taiwan',\n",
       " '792': 'Turkey',\n",
       " '795': 'Turkmenistan',\n",
       " '834': 'Tanzania',\n",
       " '784': 'United Arab Emirates',\n",
       " '800': 'Uganda',\n",
       " '804': 'Ukraine',\n",
       " '840': 'United States',\n",
       " '850': 'U.S. Virgin Islands',\n",
       " '858': 'Uruguay',\n",
       " '860': 'Uzbekistan',\n",
       " '704': 'Viet Nam',\n",
       " '862': 'Venezuela',\n",
       " '887': 'Yemen',\n",
       " '894': 'Zambia',\n",
       " '716': 'Zimbabwe',\n",
       " '446': 'Macao SAR',\n",
       " '462': 'Maldives',\n",
       " '688': 'Serbia',\n",
       " '909': 'Northern Ireland'}"
      ]
     },
     "execution_count": 23,
     "metadata": {},
     "output_type": "execute_result"
    }
   ],
   "source": [
    "country_dict"
   ]
  },
  {
   "cell_type": "code",
   "execution_count": 29,
   "id": "327b39d3",
   "metadata": {},
   "outputs": [],
   "source": [
    "country_code_list = country_dict.keys()\n",
    "country_score_dict = dict()\n",
    "country_std_dict = dict()\n",
    "for country_code in country_code_list:\n",
    "    country_code = str(country_code)\n",
    "    country_od_dict = dict()\n",
    "    for (question_item) in question_dict.items():\n",
    "        human_distribution = get_human_distribution_by_country_and_question(country_code, question_item, human_df)\n",
    "        if human_distribution is None:\n",
    "            continue\n",
    "        country_od_dict[question_item[0]] = human_distribution\n",
    "\n",
    "    if len(country_od_dict) == 0:\n",
    "        continue\n",
    "\n",
    "    llm_score, llm_std = alignment_score(llm_od_dict, country_od_dict, question_dict.keys())\n",
    "    country_score_dict[country_dict.get(country_code)] = llm_score\n",
    "    country_std_dict[country_dict.get(country_code)] = llm_std\n"
   ]
  },
  {
   "cell_type": "code",
   "execution_count": 30,
   "id": "14c5c46d",
   "metadata": {},
   "outputs": [
    {
     "data": {
      "text/plain": [
       "{'Andorra': np.float64(0.8656),\n",
       " 'Argentina': np.float64(0.8784),\n",
       " 'Armenia': np.float64(0.8255),\n",
       " 'Australia': np.float64(0.8757),\n",
       " 'Bangladesh': np.float64(0.7947),\n",
       " 'Bolivia': np.float64(0.8486),\n",
       " 'Brazil': np.float64(0.8655),\n",
       " 'Canada': np.float64(0.8908),\n",
       " 'Chile': np.float64(0.8948),\n",
       " 'China': np.float64(0.8177),\n",
       " 'Colombia': np.float64(0.8529),\n",
       " 'Cyprus': np.float64(0.8841),\n",
       " 'Czech Republic': np.float64(0.8885),\n",
       " 'Egypt': np.float64(0.7855),\n",
       " 'Ecuador': np.float64(0.862),\n",
       " 'Ethiopia': np.float64(0.8233),\n",
       " 'Germany': np.float64(0.857),\n",
       " 'Greece': np.float64(0.8664),\n",
       " 'Guatemala': np.float64(0.8749),\n",
       " 'Great Britain': np.float64(0.8732),\n",
       " 'Hong Kong': np.float64(0.885),\n",
       " 'India': np.float64(0.8504),\n",
       " 'Indonesia': np.float64(0.8208),\n",
       " 'Iran': np.float64(0.8397),\n",
       " 'Iraq': np.float64(0.8214),\n",
       " 'Jordan': np.float64(0.8033),\n",
       " 'Japan': np.float64(0.8553),\n",
       " 'Kazakhstan': np.float64(0.8756),\n",
       " 'Kenya': np.float64(0.8666),\n",
       " 'Kyrgyzstan': np.float64(0.8239),\n",
       " 'Lebanon': np.float64(0.85),\n",
       " 'Libya': np.float64(0.794),\n",
       " 'Malaysia': np.float64(0.866),\n",
       " 'Mexico': np.float64(0.8668),\n",
       " 'Mongolia': np.float64(0.8921),\n",
       " 'Morocco': np.float64(0.8596),\n",
       " 'Myanmar': np.float64(0.7881),\n",
       " 'Netherlands': np.float64(0.8478),\n",
       " 'New Zealand': np.float64(0.8656),\n",
       " 'Nicaragua': np.float64(0.8519),\n",
       " 'Nigeria': np.float64(0.8325),\n",
       " 'Pakistan': np.float64(0.8245),\n",
       " 'Peru': np.float64(0.8394),\n",
       " 'Philippines': np.float64(0.8517),\n",
       " 'Puerto Rico': np.float64(0.8561),\n",
       " 'Romania': np.float64(0.8627),\n",
       " 'Russia': np.float64(0.8789),\n",
       " 'Singapore': np.float64(0.8813),\n",
       " 'Slovakia': np.float64(0.8933),\n",
       " 'South Korea': np.float64(0.8623),\n",
       " 'Tajikistan': np.float64(0.8281),\n",
       " 'Thailand': np.float64(0.884),\n",
       " 'Tunisia': np.float64(0.8205),\n",
       " 'Taiwan': np.float64(0.8745),\n",
       " 'Turkey': np.float64(0.8546),\n",
       " 'Ukraine': np.float64(0.8895),\n",
       " 'United States': np.float64(0.8972),\n",
       " 'Uruguay': np.float64(0.8664),\n",
       " 'Uzbekistan': np.float64(0.8287),\n",
       " 'Viet Nam': np.float64(0.8192),\n",
       " 'Venezuela': np.float64(0.8626),\n",
       " 'Zimbabwe': np.float64(0.8356),\n",
       " 'Macao SAR': np.float64(0.8725),\n",
       " 'Maldives': np.float64(0.8275),\n",
       " 'Serbia': np.float64(0.8619),\n",
       " 'Northern Ireland': np.float64(0.8921)}"
      ]
     },
     "execution_count": 30,
     "metadata": {},
     "output_type": "execute_result"
    }
   ],
   "source": [
    "country_score_dict"
   ]
  },
  {
   "cell_type": "code",
   "execution_count": 33,
   "id": "d2bae59a",
   "metadata": {},
   "outputs": [
    {
     "name": "stdout",
     "output_type": "stream",
     "text": [
      "[np.float64(0.8972), np.float64(0.8948), np.float64(0.8933), np.float64(0.8921), np.float64(0.8921), np.float64(0.8908), np.float64(0.8177), np.float64(0.8033), np.float64(0.7947), np.float64(0.794), np.float64(0.7881), np.float64(0.7855)]\n"
     ]
    },
    {
     "name": "stderr",
     "output_type": "stream",
     "text": [
      "/tmp/ipykernel_4005206/1751779354.py:18: MatplotlibDeprecationWarning: The get_cmap function was deprecated in Matplotlib 3.7 and will be removed in 3.11. Use ``matplotlib.colormaps[name]`` or ``matplotlib.colormaps.get_cmap()`` or ``pyplot.get_cmap()`` instead.\n",
      "  cmap = cm.get_cmap('viridis')\n"
     ]
    },
    {
     "data": {
      "image/png": "[encoded data removed]",
      "text/plain": [
       "<Figure size 450x350 with 1 Axes>"
      ]
     },
     "metadata": {},
     "output_type": "display_data"
    }
   ],
   "source": [
    "sorted_data = sorted(country_score_dict.items(), key=lambda x: x[1], reverse=True)\n",
    "countries = []\n",
    "means = []\n",
    "cis = []\n",
    "for country, score in sorted_data:\n",
    "    countries.append(country)\n",
    "    means.append(score)\n",
    "    cis.append(country_std_dict[country])\n",
    "top_number = 6\n",
    "countries = countries[:top_number] + countries[-top_number:]\n",
    "means = means[:top_number] + means[-top_number:]\n",
    "cis = cis[:top_number] + cis[-top_number:]\n",
    "print(means)\n",
    "lower = np.array(means) - np.array(cis)\n",
    "upper = np.array(means) + np.array(cis)\n",
    "y_pos = np.arange(len(countries))\n",
    "\n",
    "cmap = cm.get_cmap('viridis')         \n",
    "norm = Normalize(vmin=min(means), vmax=max(means))\n",
    "colors = cmap(norm(means))          \n",
    "\n",
    "fig, ax = plt.subplots(figsize=(4.5, 3.5))\n",
    "\n",
    "for i, (low, up) in enumerate(zip(lower, upper)):\n",
    "    ax.hlines(y_pos[i], low, up, colors=colors[i], linewidth=2, zorder=3)\n",
    "for i, m in enumerate(means):\n",
    "    ax.plot(m, y_pos[i], 'o', markersize=8, color=colors[i], markeredgecolor=colors[i], zorder=2)\n",
    "\n",
    "ax.set_yticks(y_pos)\n",
    "ax.set_yticklabels(countries)\n",
    "ax.invert_yaxis()                  \n",
    "\n",
    "mean_value = np.mean(means)\n",
    "ax.axvline(mean_value, linestyle='--', linewidth=1, color='black', zorder=1)\n",
    "\n",
    "ax.yaxis.grid(True,color='grey', linewidth=0.5)\n",
    "plt.tight_layout()\n",
    "plt.savefig(\"../figures/RQ1/compare_countries.pdf\", dpi=300)"
   ]
  }
 ],
 "metadata": {
  "kernelspec": {
   "display_name": "l",
   "language": "python",
   "name": "python3"
  },
  "language_info": {
   "codemirror_mode": {
    "name": "ipython",
    "version": 3
   },
   "file_extension": ".py",
   "mimetype": "text/x-python",
   "name": "python",
   "nbconvert_exporter": "python",
   "pygments_lexer": "ipython3",
   "version": "3.12.8"
  }
 },
 "nbformat": 4,
 "nbformat_minor": 5
}
